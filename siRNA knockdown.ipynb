{
 "cells": [
  {
   "cell_type": "markdown",
   "metadata": {},
   "source": [
    "## siRNA knockdown ##"
   ]
  },
  {
   "cell_type": "markdown",
   "metadata": {},
   "source": [
    "This notebook fits analytical functions to Rafał’s data."
   ]
  },
  {
   "cell_type": "markdown",
   "metadata": {},
   "source": [
    "The analytical functions look like this:"
   ]
  },
  {
   "cell_type": "markdown",
   "metadata": {},
   "source": [
    "$$f_\\text{red}(t) =\n",
    "m_\\text{r}\\,k_\\text{tl} \\left(\n",
    "\\frac{1}{\\beta_\\text{r}-\\delta_\\text{r}+k_\\text{m,r}} \\mathrm{e}^{-(\\beta_\\text{r}+k_\\text{m,r})(t-t_0)}\n",
    "-\\frac{1}{\\beta_\\text{r} - \\delta_\\text{r}} \\mathrm{e}^{-\\beta_\\text{r} (t-t_0)}\n",
    "+\\frac{k_\\text{m,r}}{(\\beta_\\text{r}-\\delta_\\text{r}) (\\beta_\\text{r}-\\delta_\\text{r}+k_\\text{m,r})} \\mathrm{e}^{-\\delta_\\text{r} (t-t_0)}\n",
    "\\right)\n",
    "$$"
   ]
  },
  {
   "cell_type": "markdown",
   "metadata": {},
   "source": [
    "$$f_\\text{green}(t) =\n",
    "m_\\text{g}\\,k_\\text{tl} \\left(\n",
    "\\frac{1}{\\beta_\\text{g}-\\delta_\\text{g}+k_\\text{m,g}} \\mathrm{e}^{-(\\beta_\\text{g}+k_\\text{m,g})(t-t_0)}\n",
    "-\\frac{1}{\\beta_\\text{g} - \\delta_\\text{g}} \\mathrm{e}^{-\\beta_\\text{g} (t-t_0)}\n",
    "+\\frac{k_\\text{m,g}}{(\\beta_\\text{g}-\\delta_\\text{g}) (\\beta_\\text{g}-\\delta_\\text{g}+k_\\text{m,g})} \\mathrm{e}^{-\\delta_\\text{g} (t-t_0)}\n",
    "\\right)\n",
    "$$"
   ]
  },
  {
   "cell_type": "code",
   "execution_count": 1,
   "metadata": {
    "collapsed": true
   },
   "outputs": [],
   "source": [
    "# Import modules needed\n",
    "%matplotlib inline\n",
    "import numpy as np\n",
    "import lmfit as lm\n",
    "import matplotlib.pyplot as plt\n",
    "from matplotlib.backends.backend_pdf import PdfPages\n",
    "import pandas as pd\n",
    "from io_Daniel import *\n",
    "import os"
   ]
  },
  {
   "cell_type": "code",
   "execution_count": 2,
   "metadata": {
    "collapsed": true
   },
   "outputs": [],
   "source": [
    "def red(t, tr, ktl, mr, kmr, betr, deltr, offr):\n",
    "    \"\"\"Model function for red data\"\"\"\n",
    "\n",
    "    f = np.zeros(np.shape(t))\n",
    "    idx_after = (t > tr)\n",
    "    dt = t[idx_after] - tr\n",
    "\n",
    "    f1 = np.exp(- (betr + kmr) * dt) / (betr - deltr + kmr)\n",
    "    f2 = - np.exp(- betr * dt) / (betr - deltr)\n",
    "    f3 = kmr * np.exp(- deltr * dt) / (betr - deltr) / (betr - deltr + kmr)\n",
    "\n",
    "    f[idx_after] = (f1 + f2 + f3) * mr * ktl\n",
    "\n",
    "    return f + offr"
   ]
  },
  {
   "cell_type": "code",
   "execution_count": 3,
   "metadata": {
    "collapsed": true
   },
   "outputs": [],
   "source": [
    "def green(t, tg, ktl, mg, kmg, betg, deltg, offg):\n",
    "    \"\"\"Model function for green data\"\"\"\n",
    "\n",
    "    f = np.zeros(np.shape(t))\n",
    "    idx_after = t > tg\n",
    "    dt = t[idx_after] - tg\n",
    "\n",
    "    f1 = np.exp(- (betg + kmg) * dt) / (betg - deltg + kmg)\n",
    "    f2 = - np.exp(- betg * dt) / (betg - deltg)\n",
    "    f3 = kmg * np.exp(- deltg * dt) / (betg - deltg) / (betg - deltg + kmg)\n",
    "\n",
    "    f[idx_after] = (f1 + f2 + f3) * mg * ktl\n",
    "\n",
    "    return f + offg"
   ]
  },
  {
   "cell_type": "code",
   "execution_count": 25,
   "metadata": {},
   "outputs": [],
   "source": [
    "def combined(t, tr, tg, ktl, m, kmr, kmg, betr, betg, deltr, deltg, offr, offg):\n",
    "    \"\"\"Model function for a combined fit of red and green data\"\"\"\n",
    "    \n",
    "    f = np.stack(\n",
    "        (red(t=t, tr=tr, ktl=ktl, mr=m, kmr=kmr, betr=betr, deltr=deltr, offr=offr),\n",
    "         green(t=t, tg=tg, ktl=ktl, mg=m, kmg=kmg, betg=betg, deltg=deltg, offg=offg)),\n",
    "        axis=1)\n",
    "\n",
    "    return f"
   ]
  },
  {
   "cell_type": "code",
   "execution_count": 26,
   "metadata": {
    "collapsed": true,
    "scrolled": false
   },
   "outputs": [],
   "source": [
    "# Set default parameter values\n",
    "ktl_0 = 5\n",
    "m_0 = 5\n",
    "\n",
    "tr_0 = 5\n",
    "mr_0 = 19\n",
    "kmr_0 = 0.03\n",
    "betr_0 = 0.16\n",
    "deltr_0 = 0.07\n",
    "offr_0 = 0\n",
    "\n",
    "tg_0 = 4\n",
    "mg_0 = 2\n",
    "kmg_0 = 4\n",
    "betg_0 = 0.03\n",
    "deltg_0 = 0.07\n",
    "offg_0 = 0"
   ]
  },
  {
   "cell_type": "code",
   "execution_count": 27,
   "metadata": {
    "collapsed": true
   },
   "outputs": [],
   "source": [
    "# Create fit models\n",
    "model_red = lm.Model(red)\n",
    "model_red.set_param_hint('tr', min=0, max=30, value=tr_0)\n",
    "model_red.set_param_hint('ktl', min=0, value=ktl_0)\n",
    "model_red.set_param_hint('mr', min=0, value=mr_0)\n",
    "model_red.set_param_hint('kmr', min=0, value=kmr_0)\n",
    "model_red.set_param_hint('betr', min=0, value=betr_0)\n",
    "model_red.set_param_hint('deltr', min=0, value=deltr_0)\n",
    "model_red.set_param_hint('offr', value=offr_0)\n",
    "\n",
    "model_green = lm.Model(green)\n",
    "model_green.set_param_hint('tg', min=0, max=30, value=tg_0)\n",
    "model_green.set_param_hint('ktl', min=0, value=ktl_0)\n",
    "model_green.set_param_hint('mg', min=0, value=mg_0)\n",
    "model_green.set_param_hint('kmg', min=0, value=kmg_0)\n",
    "model_green.set_param_hint('betg', min=0, value=betg_0)\n",
    "model_green.set_param_hint('deltg', min=0, value=deltg_0)\n",
    "model_green.set_param_hint('offg', value=offg_0)\n",
    "\n",
    "model_combined = lm.Model(combined)\n",
    "model_combined.set_param_hint('tr', min=0, max=30, value=tr_0)\n",
    "model_combined.set_param_hint('tg', min=0, max=30, value=tg_0)\n",
    "model_combined.set_param_hint('ktl', min=0, value=ktl_0)\n",
    "model_combined.set_param_hint('m', min=0, value=m_0)\n",
    "model_combined.set_param_hint('kmr', min=0, value=kmr_0)\n",
    "model_combined.set_param_hint('kmg', min=0, value=kmg_0)\n",
    "model_combined.set_param_hint('betr', min=0, value=betr_0)\n",
    "model_combined.set_param_hint('betg', min=0, value=betg_0)\n",
    "model_combined.set_param_hint('deltr', min=0, value=deltr_0)\n",
    "model_combined.set_param_hint('deltg', min=0, value=deltg_0)\n",
    "model_combined.set_param_hint('offr', value=offr_0)\n",
    "model_combined.set_param_hint('offg', value=offg_0)"
   ]
  },
  {
   "cell_type": "code",
   "execution_count": 8,
   "metadata": {
    "collapsed": true
   },
   "outputs": [],
   "source": [
    "# Read in data\n",
    "D = {}\n",
    "\n",
    "D['Huh7 control'] = {}\n",
    "D['Huh7 control']['t'] = pd.read_excel('data/Huh7_control.xlsx', sheetname='time').values.squeeze()\n",
    "D['Huh7 control']['rfp'] = pd.read_excel('data/Huh7_control.xlsx', sheetname='RFP').values\n",
    "D['Huh7 control']['gfp'] = pd.read_excel('data/Huh7_control.xlsx', sheetname='GFP').values\n",
    "\n",
    "D['A549 control'] = {}\n",
    "D['A549 control']['t'] = pd.read_excel('data/A549_control.xlsx', sheetname='time').values.squeeze()\n",
    "D['A549 control']['rfp'] = pd.read_excel('data/A549_control.xlsx', sheetname='RFP').values\n",
    "D['A549 control']['gfp'] = pd.read_excel('data/A549_control.xlsx', sheetname='GFP').values\n",
    "\n",
    "D['A549 siRNA'] = {}\n",
    "D['A549 siRNA']['t'] = pd.read_excel('data/A549_siRNA.xlsx', sheetname='time').values.squeeze()\n",
    "D['A549 siRNA']['rfp'] = pd.read_excel('data/A549_siRNA.xlsx', sheetname='RFP').values\n",
    "D['A549 siRNA']['gfp'] = pd.read_excel('data/A549_siRNA.xlsx', sheetname='GFP').values"
   ]
  },
  {
   "cell_type": "code",
   "execution_count": 29,
   "metadata": {
    "collapsed": true
   },
   "outputs": [],
   "source": [
    "# Provide output tables\n",
    "\n",
    "# Initialize result dictionary\n",
    "R = {}\n",
    "\n",
    "# Get a list of fit parameters\n",
    "par_names = model_green.param_names.copy()\n",
    "par_names.extend(p for p in model_red.param_names if p not in par_names)\n",
    "par_names.sort()\n",
    "\n",
    "# Iteratively populate the result dictionary\n",
    "for k in D.keys():\n",
    "    R[k] = {}\n",
    "    Ng = np.shape(D[k]['gfp'])[1]\n",
    "    Nr = np.shape(D[k]['rfp'])[1]\n",
    "    Nc = np.shape(D[k]['rfp'])[1]\n",
    "    R[k]['green'] = pd.DataFrame(index=np.arange(Ng), columns=model_green.param_names, dtype='float64')\n",
    "    R[k]['red'] = pd.DataFrame(index=np.arange(Nr), columns=model_red.param_names, dtype='float64')\n",
    "    R[k]['combined'] = pd.DataFrame(index=np.arange(Nc), columns=model_combined.param_names, dtype='float64')"
   ]
  },
  {
   "cell_type": "code",
   "execution_count": 16,
   "metadata": {
    "collapsed": true
   },
   "outputs": [],
   "source": [
    "def fitAndPlotSeparate(ds, tr, pdf=None):\n",
    "    \"\"\"Fits and plots the data, treating RFP and GFP separately.\n",
    "    \n",
    "    Keyword arguments:\n",
    "    ds -- the dictionary key of the dataset\n",
    "    tr -- the index of the trace in the dataset to be processed\n",
    "    pdf -- a PdfPages object to which the figure is written if it is not None\n",
    "    \"\"\"\n",
    "\n",
    "    # Fit the data\n",
    "    result_red = model_red.fit(D[ds]['rfp'][:,tr], t=D[ds]['t'])\n",
    "    result_green = model_green.fit(D[ds]['gfp'][:,tr], t=D[ds]['t'])\n",
    "\n",
    "    # Save results to R\n",
    "    R[ds]['red'].iloc[tr] = result_red.best_values\n",
    "    R[ds]['green'].iloc[tr] = result_green.best_values\n",
    "\n",
    "    # Plot fit results\n",
    "    fig = plt.figure()\n",
    "    p_tr = plt.axvline(result_red.best_values['tr'], label='RFP onset',\n",
    "                       color='#ff0000', linewidth=.5, linestyle='--')\n",
    "    p_tg = plt.axvline(result_green.best_values['tg'], label='GFP onset',\n",
    "                      color='#00ff00', linewidth=.5, linestyle='--')\n",
    "    p_fr, = plt.plot(D[ds]['t'], result_red.best_fit, '-', label='RFP (fit)', color='#ff0000', linewidth=1)\n",
    "    p_fg, = plt.plot(D[ds]['t'], result_green.best_fit, '-', label='GFP (fit)', color='#00ff00', linewidth=1)\n",
    "    p_dr, = plt.plot(D[ds]['t'], D[ds]['rfp'][:,tr], '-', label='RFP (measured)', color='#990000', linewidth=.5)\n",
    "    p_dg, = plt.plot(D[ds]['t'], D[ds]['gfp'][:,tr], '-', label='GFP (measured)', color='#009900', linewidth=.5)\n",
    "\n",
    "    # Format plot\n",
    "    plt.xlabel('Time [h]')\n",
    "    plt.ylabel('Fluorescence intensity [a.u.]')\n",
    "    plt.title('{:s} (separate fit) #{:03d}'.format(ds, tr))\n",
    "    plt.legend(handles=[p_dg, p_fg, p_tg, p_dr, p_fr, p_tr])\n",
    "\n",
    "    # Write figure to pdf\n",
    "    if pdf != None:\n",
    "        pdf.savefig(fig)\n",
    "\n",
    "    # Show and close figure\n",
    "    plt.show()\n",
    "    plt.close()\n",
    "\n",
    "    # Print fit reports\n",
    "    print(result_red.fit_report())\n",
    "    print(result_green.fit_report())"
   ]
  },
  {
   "cell_type": "code",
   "execution_count": 35,
   "metadata": {
    "collapsed": true
   },
   "outputs": [],
   "source": [
    "def fitAndPlotCombined(ds, tr, pdf=None):\n",
    "    \"\"\"Fits and plots the data, treating RFP and GFP together.\n",
    "    \n",
    "    Keyword arguments:\n",
    "    ds -- the dictionary key of the dataset\n",
    "    tr -- the index of the trace in the dataset to be processed\n",
    "    pdf -- a PdfPages object to which the figure is written if it is not None\n",
    "    \"\"\"\n",
    "\n",
    "    # Adjust parameter bounds for onset time for current trace\n",
    "    model_combined.set_param_hint('tr', max=D[ds]['t'][D[ds]['rfp'][:,tr].argmax()])\n",
    "    model_combined.set_param_hint('tg', max=D[ds]['t'][D[ds]['gfp'][:,tr].argmax()])\n",
    "\n",
    "    # Fit the data\n",
    "    result = model_combined.fit(np.stack((D[ds]['rfp'][:,tr], D[ds]['gfp'][:,tr]), axis=1), t=D[ds]['t'])\n",
    "\n",
    "    # Save results to R\n",
    "    R[ds]['combined'].iloc[tr] = result.best_values\n",
    "\n",
    "    # Plot fit results\n",
    "    fig = plt.figure()\n",
    "    p_tr = plt.axvline(result.best_values['tr'], label='RFP onset',\n",
    "                       color='#ff0000', linewidth=.5, linestyle='--')\n",
    "    p_tg = plt.axvline(result.best_values['tg'], label='GFP onset',\n",
    "                      color='#00ff00', linewidth=.5, linestyle='--')\n",
    "    p_fr, = plt.plot(D[ds]['t'], result.best_fit[:,0], '-', label='RFP (fit)', color='#ff0000', linewidth=1)\n",
    "    p_fg, = plt.plot(D[ds]['t'], result.best_fit[:,1], '-', label='GFP (fit)', color='#00ff00', linewidth=1)\n",
    "    p_dr, = plt.plot(D[ds]['t'], D[ds]['rfp'][:,tr], '-', label='RFP (measured)', color='#990000', linewidth=.5)\n",
    "    p_dg, = plt.plot(D[ds]['t'], D[ds]['gfp'][:,tr], '-', label='GFP (measured)', color='#009900', linewidth=.5)\n",
    "\n",
    "    # Format plot\n",
    "    plt.xlabel('Time [h]')\n",
    "    plt.ylabel('Fluorescence intensity [a.u.]')\n",
    "    plt.title('{:s} (combined fit) #{:03d}'.format(ds, tr))\n",
    "    plt.legend(handles=[p_dg, p_fg, p_tg, p_dr, p_fr, p_tr])\n",
    "\n",
    "    # Write figure to pdf\n",
    "    if pdf != None:\n",
    "        pdf.savefig(fig)\n",
    "\n",
    "    # Show and close figure\n",
    "    plt.show()\n",
    "    plt.close()\n",
    "\n",
    "    # Print fit reports\n",
    "    print(result.fit_report())"
   ]
  },
  {
   "cell_type": "code",
   "execution_count": null,
   "metadata": {
    "collapsed": true
   },
   "outputs": [],
   "source": [
    "# Perform separate fit\n",
    "def performSeparateFit():\n",
    "    ts = getTimeStamp()\n",
    "\n",
    "    for ds in D.keys():\n",
    "\n",
    "        pdffile = os.path.join(getOutpath(), '{:s}_separate_{:s}.pdf'.format(ts, ds.replace(' ', '_')))\n",
    "        pdf = PdfPages(pdffile)\n",
    "\n",
    "        for tr in range(np.shape(D[ds]['rfp'])[1]):\n",
    "            fitAndPlotSeparate(ds, tr, pdf)\n",
    "\n",
    "        pdf.close()\n",
    "\n",
    "performSeparateFit()"
   ]
  },
  {
   "cell_type": "code",
   "execution_count": null,
   "metadata": {
    "collapsed": true
   },
   "outputs": [],
   "source": [
    "# Perform combined fit\n",
    "def performCombinedFit():\n",
    "    ts = getTimeStamp()\n",
    "\n",
    "    for ds in D.keys():\n",
    "\n",
    "        pdffile = os.path.join(getOutpath(), '{:s}_combined_{:s}.pdf'.format(ts, ds.replace(' ', '_')))\n",
    "        pdf = PdfPages(pdffile)\n",
    "\n",
    "        for tr in range(np.shape(D[ds]['rfp'])[1]):\n",
    "            fitAndPlotCombined(ds, tr, pdf)\n",
    "\n",
    "        pdf.close()\n",
    "performCombinedFit()"
   ]
  },
  {
   "cell_type": "code",
   "execution_count": 160,
   "metadata": {},
   "outputs": [
    {
     "data": {
      "image/png": "[encoded data removed]",
      "text/plain": [
       "<matplotlib.figure.Figure at 0x7f6a01bf91d0>"
      ]
     },
     "metadata": {},
     "output_type": "display_data"
    },
    {
     "data": {
      "image/png": "[encoded data removed]",
      "text/plain": [
       "<matplotlib.figure.Figure at 0x7f6a019a9278>"
      ]
     },
     "metadata": {},
     "output_type": "display_data"
    },
    {
     "data": {
      "image/png": "[encoded data removed]",
      "text/plain": [
       "<matplotlib.figure.Figure at 0x7f6a01bdb2b0>"
      ]
     },
     "metadata": {},
     "output_type": "display_data"
    }
   ],
   "source": [
    "for k in R.keys():\n",
    "    plt.figure()\n",
    "    plt.plot([0, 30], [0, 30], 'k-')\n",
    "    plt.plot(R[k]['red']['tr'], R[k]['green']['tg'], '.')\n",
    "    plt.xlabel('Onset RFP [h]')\n",
    "    plt.ylabel('Onset GFP [h]')\n",
    "    plt.title(k)\n",
    "    plt.show()\n",
    "    plt.close()\n",
    "    "
   ]
  },
  {
   "cell_type": "markdown",
   "metadata": {},
   "source": [
    "From the [documentation](http://lmfit-py.readthedocs.io/en/latest/model.html#lmfit.model.Model.fit):\n",
    "\n",
    "If supplied, `weights` will be used to weight the calculated residual so that the quantity minimized in the least-squares sense is `weights*(data - fit)`. `weights` must be an `ndarray`-like object of same size and shape as `data`."
   ]
  }
 ],
 "metadata": {
  "kernelspec": {
   "display_name": "Python 3",
   "language": "python",
   "name": "python3"
  },
  "language_info": {
   "codemirror_mode": {
    "name": "ipython",
    "version": 3
   },
   "file_extension": ".py",
   "mimetype": "text/x-python",
   "name": "python",
   "nbconvert_exporter": "python",
   "pygments_lexer": "ipython3",
   "version": "3.5.3"
  }
 },
 "nbformat": 4,
 "nbformat_minor": 2
}
