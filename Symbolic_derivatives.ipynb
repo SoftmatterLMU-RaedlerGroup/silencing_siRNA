{
 "cells": [
  {
   "cell_type": "code",
   "execution_count": 1,
   "metadata": {
    "collapsed": true
   },
   "outputs": [],
   "source": [
    "import sympy as sy"
   ]
  },
  {
   "cell_type": "code",
   "execution_count": 2,
   "metadata": {
    "collapsed": true
   },
   "outputs": [],
   "source": [
    "sy.init_printing()"
   ]
  },
  {
   "cell_type": "code",
   "execution_count": 3,
   "metadata": {
    "collapsed": true
   },
   "outputs": [],
   "source": [
    "m, beta, delta, k, t, t0 = sy.symbols('m 𝛽 𝛿 k t t_0')"
   ]
  },
  {
   "cell_type": "code",
   "execution_count": 4,
   "metadata": {},
   "outputs": [
    {
     "data": {
      "image/png": "[encoded data removed]",
      "text/latex": [
       "$$m \\left(\\frac{k e^{- 𝛿 \\left(t - t_{0}\\right)}}{\\left(𝛽 - 𝛿\\right) \\left(k + 𝛽 - 𝛿\\right)} + \\frac{e^{\\left(- k - 𝛽\\right) \\left(t - t_{0}\\right)}}{k + 𝛽 - 𝛿} - \\frac{e^{- 𝛽 \\left(t - t_{0}\\right)}}{𝛽 - 𝛿}\\right)$$"
      ],
      "text/plain": [
       "  ⎛      -𝛿⋅(t - t₀)      (-k - 𝛽)⋅(t - t₀)    -𝛽⋅(t - t₀)⎞\n",
       "  ⎜   k⋅ℯ                ℯ                    ℯ           ⎟\n",
       "m⋅⎜─────────────────── + ────────────────── - ────────────⎟\n",
       "  ⎝(𝛽 - 𝛿)⋅(k + 𝛽 - 𝛿)       k + 𝛽 - 𝛿           𝛽 - 𝛿    ⎠"
      ]
     },
     "execution_count": 4,
     "metadata": {},
     "output_type": "execute_result"
    }
   ],
   "source": [
    "# Get expression function\n",
    "expr = sy.exp(-(beta + k) * (t - t0)) / (beta - delta + k)\n",
    "expr -= sy.exp(-beta * (t - t0)) / (beta - delta)\n",
    "expr += k * sy.exp(-delta * (t - t0)) / (beta - delta) / (beta - delta + k)\n",
    "expr *= m\n",
    "expr"
   ]
  },
  {
   "cell_type": "code",
   "execution_count": 5,
   "metadata": {
    "collapsed": true
   },
   "outputs": [],
   "source": [
    "# Get jacobian\n",
    "expr_Dm = expr.diff(m)\n",
    "expr_Dbeta = expr.diff(beta)\n",
    "expr_Ddelta = expr.diff(delta)\n",
    "expr_Dk = expr.diff(k)\n",
    "expr_Dt0 = expr.diff(t0)"
   ]
  },
  {
   "cell_type": "code",
   "execution_count": 6,
   "metadata": {},
   "outputs": [
    {
     "data": {
      "image/png": "[encoded data removed]",
      "text/latex": [
       "$$\\frac{k e^{- 𝛿 \\left(t - t_{0}\\right)}}{\\left(𝛽 - 𝛿\\right) \\left(k + 𝛽 - 𝛿\\right)} + \\frac{e^{\\left(- k - 𝛽\\right) \\left(t - t_{0}\\right)}}{k + 𝛽 - 𝛿} - \\frac{e^{- 𝛽 \\left(t - t_{0}\\right)}}{𝛽 - 𝛿}$$"
      ],
      "text/plain": [
       "      -𝛿⋅(t - t₀)      (-k - 𝛽)⋅(t - t₀)    -𝛽⋅(t - t₀)\n",
       "   k⋅ℯ                ℯ                    ℯ           \n",
       "─────────────────── + ────────────────── - ────────────\n",
       "(𝛽 - 𝛿)⋅(k + 𝛽 - 𝛿)       k + 𝛽 - 𝛿           𝛽 - 𝛿    "
      ]
     },
     "execution_count": 6,
     "metadata": {},
     "output_type": "execute_result"
    }
   ],
   "source": [
    "expr_Dm"
   ]
  },
  {
   "cell_type": "code",
   "execution_count": 13,
   "metadata": {},
   "outputs": [
    {
     "data": {
      "image/png": "[encoded data removed]",
      "text/latex": [
       "$$m \\left(- \\frac{k e^{- 𝛿 \\left(t - t_{0}\\right)}}{\\left(𝛽 - 𝛿\\right) \\left(k + 𝛽 - 𝛿\\right)^{2}} - \\frac{k e^{- 𝛿 \\left(t - t_{0}\\right)}}{\\left(𝛽 - 𝛿\\right)^{2} \\left(k + 𝛽 - 𝛿\\right)} + \\frac{e^{\\left(- k - 𝛽\\right) \\left(t - t_{0}\\right)}}{k + 𝛽 - 𝛿} \\left(- t + t_{0}\\right) - \\frac{e^{- 𝛽 \\left(t - t_{0}\\right)}}{𝛽 - 𝛿} \\left(- t + t_{0}\\right) - \\frac{e^{\\left(- k - 𝛽\\right) \\left(t - t_{0}\\right)}}{\\left(k + 𝛽 - 𝛿\\right)^{2}} + \\frac{e^{- 𝛽 \\left(t - t_{0}\\right)}}{\\left(𝛽 - 𝛿\\right)^{2}}\\right)$$"
      ],
      "text/plain": [
       "  ⎛        -𝛿⋅(t - t₀)            -𝛿⋅(t - t₀)                 (-k - 𝛽)⋅(t - t₀\n",
       "  ⎜     k⋅ℯ                    k⋅ℯ                 (-t + t₀)⋅ℯ                \n",
       "m⋅⎜- ──────────────────── - ──────────────────── + ───────────────────────────\n",
       "  ⎜                     2          2                        k + 𝛽 - 𝛿         \n",
       "  ⎝  (𝛽 - 𝛿)⋅(k + 𝛽 - 𝛿)    (𝛽 - 𝛿) ⋅(k + 𝛽 - 𝛿)                              \n",
       "\n",
       ")              -𝛽⋅(t - t₀)    (-k - 𝛽)⋅(t - t₀)    -𝛽⋅(t - t₀)⎞\n",
       "    (-t + t₀)⋅ℯ              ℯ                    ℯ           ⎟\n",
       "─ - ────────────────────── - ────────────────── + ────────────⎟\n",
       "            𝛽 - 𝛿                          2               2  ⎟\n",
       "                                (k + 𝛽 - 𝛿)         (𝛽 - 𝛿)   ⎠"
      ]
     },
     "execution_count": 13,
     "metadata": {},
     "output_type": "execute_result"
    }
   ],
   "source": [
    "expr_Dbeta"
   ]
  },
  {
   "cell_type": "code",
   "execution_count": 8,
   "metadata": {},
   "outputs": [
    {
     "data": {
      "image/png": "[encoded data removed]",
      "text/latex": [
       "$$m \\left(\\frac{k \\left(- t + t_{0}\\right) e^{- 𝛿 \\left(t - t_{0}\\right)}}{\\left(𝛽 - 𝛿\\right) \\left(k + 𝛽 - 𝛿\\right)} + \\frac{k e^{- 𝛿 \\left(t - t_{0}\\right)}}{\\left(𝛽 - 𝛿\\right) \\left(k + 𝛽 - 𝛿\\right)^{2}} + \\frac{k e^{- 𝛿 \\left(t - t_{0}\\right)}}{\\left(𝛽 - 𝛿\\right)^{2} \\left(k + 𝛽 - 𝛿\\right)} + \\frac{e^{\\left(- k - 𝛽\\right) \\left(t - t_{0}\\right)}}{\\left(k + 𝛽 - 𝛿\\right)^{2}} - \\frac{e^{- 𝛽 \\left(t - t_{0}\\right)}}{\\left(𝛽 - 𝛿\\right)^{2}}\\right)$$"
      ],
      "text/plain": [
       "  ⎛             -𝛿⋅(t - t₀)         -𝛿⋅(t - t₀)            -𝛿⋅(t - t₀)       (\n",
       "  ⎜k⋅(-t + t₀)⋅ℯ                 k⋅ℯ                    k⋅ℯ                 ℯ \n",
       "m⋅⎜──────────────────────── + ──────────────────── + ──────────────────── + ──\n",
       "  ⎜  (𝛽 - 𝛿)⋅(k + 𝛽 - 𝛿)                         2          2                 \n",
       "  ⎝                           (𝛽 - 𝛿)⋅(k + 𝛽 - 𝛿)    (𝛽 - 𝛿) ⋅(k + 𝛽 - 𝛿)     \n",
       "\n",
       "-k - 𝛽)⋅(t - t₀)    -𝛽⋅(t - t₀)⎞\n",
       "                   ℯ           ⎟\n",
       "──────────────── - ────────────⎟\n",
       "            2               2  ⎟\n",
       " (k + 𝛽 - 𝛿)         (𝛽 - 𝛿)   ⎠"
      ]
     },
     "execution_count": 8,
     "metadata": {},
     "output_type": "execute_result"
    }
   ],
   "source": [
    "expr_Ddelta"
   ]
  },
  {
   "cell_type": "code",
   "execution_count": 9,
   "metadata": {},
   "outputs": [
    {
     "data": {
      "image/png": "[encoded data removed]",
      "text/latex": [
       "$$m \\left(- \\frac{k e^{- 𝛿 \\left(t - t_{0}\\right)}}{\\left(𝛽 - 𝛿\\right) \\left(k + 𝛽 - 𝛿\\right)^{2}} + \\frac{e^{\\left(- k - 𝛽\\right) \\left(t - t_{0}\\right)}}{k + 𝛽 - 𝛿} \\left(- t + t_{0}\\right) - \\frac{e^{\\left(- k - 𝛽\\right) \\left(t - t_{0}\\right)}}{\\left(k + 𝛽 - 𝛿\\right)^{2}} + \\frac{e^{- 𝛿 \\left(t - t_{0}\\right)}}{\\left(𝛽 - 𝛿\\right) \\left(k + 𝛽 - 𝛿\\right)}\\right)$$"
      ],
      "text/plain": [
       "  ⎛        -𝛿⋅(t - t₀)                 (-k - 𝛽)⋅(t - t₀)    (-k - 𝛽)⋅(t - t₀) \n",
       "  ⎜     k⋅ℯ                 (-t + t₀)⋅ℯ                    ℯ                  \n",
       "m⋅⎜- ──────────────────── + ──────────────────────────── - ────────────────── \n",
       "  ⎜                     2            k + 𝛽 - 𝛿                           2    \n",
       "  ⎝  (𝛽 - 𝛿)⋅(k + 𝛽 - 𝛿)                                      (k + 𝛽 - 𝛿)     \n",
       "\n",
       "       -𝛿⋅(t - t₀)   ⎞\n",
       "      ℯ              ⎟\n",
       "+ ───────────────────⎟\n",
       "  (𝛽 - 𝛿)⋅(k + 𝛽 - 𝛿)⎟\n",
       "                     ⎠"
      ]
     },
     "execution_count": 9,
     "metadata": {},
     "output_type": "execute_result"
    }
   ],
   "source": [
    "expr_Dk"
   ]
  },
  {
   "cell_type": "code",
   "execution_count": 10,
   "metadata": {},
   "outputs": [
    {
     "data": {
      "image/png": "[encoded data removed]",
      "text/latex": [
       "$$m \\left(\\frac{k 𝛿 e^{- 𝛿 \\left(t - t_{0}\\right)}}{\\left(𝛽 - 𝛿\\right) \\left(k + 𝛽 - 𝛿\\right)} - \\frac{𝛽 e^{- 𝛽 \\left(t - t_{0}\\right)}}{𝛽 - 𝛿} + \\frac{\\left(k + 𝛽\\right) e^{\\left(- k - 𝛽\\right) \\left(t - t_{0}\\right)}}{k + 𝛽 - 𝛿}\\right)$$"
      ],
      "text/plain": [
       "  ⎛       -𝛿⋅(t - t₀)       -𝛽⋅(t - t₀)            (-k - 𝛽)⋅(t - t₀)⎞\n",
       "  ⎜  k⋅𝛿⋅ℯ               𝛽⋅ℯ              (k + 𝛽)⋅ℯ                 ⎟\n",
       "m⋅⎜─────────────────── - ────────────── + ──────────────────────────⎟\n",
       "  ⎝(𝛽 - 𝛿)⋅(k + 𝛽 - 𝛿)       𝛽 - 𝛿                k + 𝛽 - 𝛿         ⎠"
      ]
     },
     "execution_count": 10,
     "metadata": {},
     "output_type": "execute_result"
    }
   ],
   "source": [
    "expr_Dt0"
   ]
  }
 ],
 "metadata": {
  "kernelspec": {
   "display_name": "Python 3",
   "language": "python",
   "name": "python3"
  },
  "language_info": {
   "codemirror_mode": {
    "name": "ipython",
    "version": 3
   },
   "file_extension": ".py",
   "mimetype": "text/x-python",
   "name": "python",
   "nbconvert_exporter": "python",
   "pygments_lexer": "ipython3",
   "version": "3.5.4"
  }
 },
 "nbformat": 4,
 "nbformat_minor": 2
}
