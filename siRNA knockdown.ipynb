{
 "cells": [
  {
   "cell_type": "markdown",
   "metadata": {},
   "source": [
    "## siRNA knockdown ##"
   ]
  },
  {
   "cell_type": "markdown",
   "metadata": {},
   "source": [
    "This notebook fits analytical functions to Rafał’s data."
   ]
  },
  {
   "cell_type": "markdown",
   "metadata": {},
   "source": [
    "The analytical functions look like this:"
   ]
  },
  {
   "cell_type": "markdown",
   "metadata": {},
   "source": [
    "$$f_\\text{red}(t) =\n",
    "m_\\text{r}\\,k_\\text{tl} \\left(\n",
    "\\frac{1}{\\beta_\\text{r}-\\delta_\\text{r}+k_\\text{m,r}} \\mathrm{e}^{-(\\beta_\\text{r}+k_\\text{m,r})(t-t_0)}\n",
    "-\\frac{1}{\\beta_\\text{r} - \\delta_\\text{r}} \\mathrm{e}^{-\\beta_\\text{r} (t-t_0)}\n",
    "+\\frac{k_\\text{m,r}}{(\\beta_\\text{r}-\\delta_\\text{r}) (\\beta_\\text{r}-\\delta_\\text{r}+k_\\text{m,r})} \\mathrm{e}^{-\\delta_\\text{r} (t-t_0)}\n",
    "\\right)\n",
    "$$"
   ]
  },
  {
   "cell_type": "markdown",
   "metadata": {},
   "source": [
    "$$f_\\text{green}(t) =\n",
    "m_\\text{g}\\,k_\\text{tl} \\left(\n",
    "\\frac{1}{\\beta_\\text{g}-\\delta_\\text{g}+k_\\text{m,g}} \\mathrm{e}^{-(\\beta_\\text{g}+k_\\text{m,g})(t-t_0)}\n",
    "-\\frac{1}{\\beta_\\text{g} - \\delta_\\text{g}} \\mathrm{e}^{-\\beta_\\text{g} (t-t_0)}\n",
    "+\\frac{k_\\text{m,g}}{(\\beta_\\text{g}-\\delta_\\text{g}) (\\beta_\\text{g}-\\delta_\\text{g}+k_\\text{m,g})} \\mathrm{e}^{-\\delta_\\text{g} (t-t_0)}\n",
    "\\right)\n",
    "$$"
   ]
  },
  {
   "cell_type": "code",
   "execution_count": 1,
   "metadata": {
    "collapsed": true
   },
   "outputs": [],
   "source": [
    "# Import modules needed\n",
    "%matplotlib inline\n",
    "import numpy as np\n",
    "import lmfit as lm\n",
    "import matplotlib.pyplot as plt\n",
    "from matplotlib.backends.backend_pdf import PdfPages"
   ]
  },
  {
   "cell_type": "code",
   "execution_count": 8,
   "metadata": {
    "collapsed": true
   },
   "outputs": [],
   "source": [
    "def red(t, t0, ktl, mr, kmr, betr, deltr):\n",
    "    \"\"\"Model function for red data\"\"\"\n",
    "\n",
    "    idx_after = (t > t0)\n",
    "    f = np.zeros(np.shape(t))\n",
    "    dt = t[idx_after] - t0\n",
    "\n",
    "    f1 = np.exp(- (betr + kmr) * dt) / (betr - deltr + kmr)\n",
    "    f2 = - np.exp(- betr * dt) / (betr - deltr)\n",
    "    f3 = kmr * np.exp(- deltr * dt) / (betr - deltr) / (betr - deltr + kmr)\n",
    "\n",
    "    f[idx_after] = f0\n",
    "    f0 = (f1 + f2 + f3) * mr * ktl\n",
    "\n",
    "\n",
    "    return f"
   ]
  },
  {
   "cell_type": "code",
   "execution_count": 3,
   "metadata": {
    "collapsed": true
   },
   "outputs": [],
   "source": [
    "def green(t, ktl, mg, kmg, betg, deltg):\n",
    "    \"\"\"Model function for green data\"\"\"\n",
    "\n",
    "    f1 = np.exp(- (betg + kmg) * t) / (betg - deltg + kmg)\n",
    "    f2 = - np.exp(- betg * t) / (betg - deltg)\n",
    "    f3 = kmg * np.exp(- deltg * t) / (betg - deltg) / (betg - deltg + kmg)\n",
    "\n",
    "    f = f1 + f2 + f3\n",
    "    f *= mg * ktl\n",
    "\n",
    "    return f"
   ]
  },
  {
   "cell_type": "code",
   "execution_count": 4,
   "metadata": {
    "scrolled": false
   },
   "outputs": [],
   "source": [
    "t = np.linspace(0, 50)\n",
    "t0 = 2\n",
    "ktl = 5\n",
    "\n",
    "mr = 19\n",
    "kmr = 0.03\n",
    "betr = 0.16\n",
    "deltr = 0.07\n",
    "\n",
    "mg = 2\n",
    "kmg = 4\n",
    "betg = 0.03\n",
    "deltg = 0.07\n",
    "\n",
    "R = red(t, t0, ktl, mr, kmr, betr, deltr)\n",
    "G = green(t, ktl, mg, kmg, betg, deltg)"
   ]
  },
  {
   "cell_type": "code",
   "execution_count": 9,
   "metadata": {},
   "outputs": [],
   "source": [
    "R0 = red(np.asarray(t0), t0, ktl, mr, kmr, betr, deltr)"
   ]
  },
  {
   "cell_type": "code",
   "execution_count": 10,
   "metadata": {},
   "outputs": [
    {
     "data": {
      "image/png": "[encoded data removed]",
      "text/plain": [
       "<matplotlib.figure.Figure at 0x7f72352ca320>"
      ]
     },
     "metadata": {},
     "output_type": "display_data"
    }
   ],
   "source": [
    "fig = plt.figure()\n",
    "plt.axvline(t0)\n",
    "plt.plot(t, R, 'r-', label='red')\n",
    "plt.plot(t, G, 'g-', label='green')\n",
    "plt.xlabel('Time [h]')\n",
    "plt.ylabel('Fluorescence intensity [a.u.]')\n",
    "plt.legend()\n",
    "plt.show()\n",
    "plt.close()"
   ]
  },
  {
   "cell_type": "markdown",
   "metadata": {},
   "source": [
    "From the [documentation](http://lmfit-py.readthedocs.io/en/latest/model.html#lmfit.model.Model.fit):\n",
    "\n",
    "If supplied, `weights` will be used to weight the calculated residual so that the quantity minimized in the least-squares sense is `weights*(data - fit)`. `weights` must be an `ndarray`-like object of same size and shape as `data`."
   ]
  },
  {
   "cell_type": "code",
   "execution_count": 11,
   "metadata": {},
   "outputs": [
    {
     "name": "stdout",
     "output_type": "stream",
     "text": [
      "[  0.00000000e+00   0.00000000e+00   2.36048502e-03   1.38377410e+00\n",
      "   4.62033346e+00   8.90994179e+00   1.36744002e+01   1.85067594e+01\n",
      "   2.31299884e+01   2.73646566e+01   3.11037746e+01   3.42933109e+01\n",
      "   3.69171931e+01   3.89858414e+01   4.05274779e+01   4.15816037e+01\n",
      "   4.21941658e+01   4.24140312e+01   4.22904682e+01   4.18713975e+01\n",
      "   4.12022257e+01   4.03251172e+01   3.92785896e+01   3.80973451e+01\n",
      "   3.68122713e+01   3.54505574e+01   3.40358887e+01   3.25886891e+01\n",
      "   3.11263898e+01   2.96637080e+01   2.82129257e+01   2.67841581e+01\n",
      "   2.53856099e+01   2.40238128e+01   2.27038446e+01   2.14295292e+01\n",
      "   2.02036161e+01   1.90279416e+01   1.79035715e+01   1.68309277e+01\n",
      "   1.58098986e+01   1.48399357e+01   1.39201373e+01   1.30493209e+01\n",
      "   1.22260849e+01   1.14488620e+01   1.07159633e+01   1.00256169e+01\n",
      "   9.37599893e+00   8.76526034e+00]\n",
      "0.0\n",
      "[  0.           1.02040816   2.04081633   3.06122449   4.08163265\n",
      "   5.10204082   6.12244898   7.14285714   8.16326531   9.18367347\n",
      "  10.20408163  11.2244898   12.24489796  13.26530612  14.28571429\n",
      "  15.30612245  16.32653061  17.34693878  18.36734694  19.3877551\n",
      "  20.40816327  21.42857143  22.44897959  23.46938776  24.48979592\n",
      "  25.51020408  26.53061224  27.55102041  28.57142857  29.59183673\n",
      "  30.6122449   31.63265306  32.65306122  33.67346939  34.69387755\n",
      "  35.71428571  36.73469388  37.75510204  38.7755102   39.79591837\n",
      "  40.81632653  41.83673469  42.85714286  43.87755102  44.89795918\n",
      "  45.91836735  46.93877551  47.95918367  48.97959184  50.        ]\n"
     ]
    }
   ],
   "source": [
    "print(R)\n",
    "print(R0)\n",
    "print(t)"
   ]
  }
 ],
 "metadata": {
  "kernelspec": {
   "display_name": "Python 3",
   "language": "python",
   "name": "python3"
  },
  "language_info": {
   "codemirror_mode": {
    "name": "ipython",
    "version": 3
   },
   "file_extension": ".py",
   "mimetype": "text/x-python",
   "name": "python",
   "nbconvert_exporter": "python",
   "pygments_lexer": "ipython3",
   "version": "3.5.3"
  }
 },
 "nbformat": 4,
 "nbformat_minor": 2
}
