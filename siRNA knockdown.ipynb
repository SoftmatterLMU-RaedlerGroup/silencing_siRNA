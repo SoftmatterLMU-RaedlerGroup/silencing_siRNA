{
 "cells": [
  {
   "cell_type": "markdown",
   "metadata": {},
   "source": [
    "## siRNA knockdown ##"
   ]
  },
  {
   "cell_type": "markdown",
   "metadata": {},
   "source": [
    "This notebook fits analytical functions to Rafał’s data."
   ]
  },
  {
   "cell_type": "markdown",
   "metadata": {},
   "source": [
    "The analytical functions look like this:"
   ]
  },
  {
   "cell_type": "markdown",
   "metadata": {},
   "source": [
    "$$f_\\text{red}(t) =\n",
    "m_\\text{r}\\,k_\\text{tl} \\left(\n",
    "\\frac{1}{\\beta_\\text{r}-\\delta_\\text{r}+k_\\text{m,r}} \\mathrm{e}^{-(\\beta_\\text{r}+k_\\text{m,r})(t-t_0)}\n",
    "-\\frac{1}{\\beta_\\text{r} - \\delta_\\text{r}} \\mathrm{e}^{-\\beta_\\text{r} (t-t_0)}\n",
    "+\\frac{k_\\text{m,r}}{(\\beta_\\text{r}-\\delta_\\text{r}) (\\beta_\\text{r}-\\delta_\\text{r}+k_\\text{m,r})} \\mathrm{e}^{-\\delta_\\text{r} (t-t_0)}\n",
    "\\right)\n",
    "$$"
   ]
  },
  {
   "cell_type": "markdown",
   "metadata": {},
   "source": [
    "$$f_\\text{green}(t) =\n",
    "m_\\text{g}\\,k_\\text{tl} \\left(\n",
    "\\frac{1}{\\beta_\\text{g}-\\delta_\\text{g}+k_\\text{m,g}} \\mathrm{e}^{-(\\beta_\\text{g}+k_\\text{m,g})(t-t_0)}\n",
    "-\\frac{1}{\\beta_\\text{g} - \\delta_\\text{g}} \\mathrm{e}^{-\\beta_\\text{g} (t-t_0)}\n",
    "+\\frac{k_\\text{m,g}}{(\\beta_\\text{g}-\\delta_\\text{g}) (\\beta_\\text{g}-\\delta_\\text{g}+k_\\text{m,g})} \\mathrm{e}^{-\\delta_\\text{g} (t-t_0)}\n",
    "\\right)\n",
    "$$"
   ]
  },
  {
   "cell_type": "code",
   "execution_count": 51,
   "metadata": {
    "collapsed": true
   },
   "outputs": [],
   "source": [
    "# Import modules needed\n",
    "%matplotlib inline\n",
    "import numpy as np\n",
    "import lmfit as lm\n",
    "import matplotlib.pyplot as plt\n",
    "from matplotlib.backends.backend_pdf import PdfPages\n",
    "import pandas as pd\n",
    "from io_Daniel import *\n",
    "import os\n",
    "import pdb"
   ]
  },
  {
   "cell_type": "code",
   "execution_count": 2,
   "metadata": {
    "collapsed": true
   },
   "outputs": [],
   "source": [
    "def red(t, tr, ktl, mr, kmr, betr, deltr, offr):\n",
    "    \"\"\"Model function for red data\"\"\"\n",
    "\n",
    "    f = np.zeros(np.shape(t))\n",
    "    idx_after = (t > tr)\n",
    "    dt = t[idx_after] - tr\n",
    "\n",
    "    f1 = np.exp(- (betr + kmr) * dt) / (betr - deltr + kmr)\n",
    "    f2 = - np.exp(- betr * dt) / (betr - deltr)\n",
    "    f3 = kmr * np.exp(- deltr * dt) / (betr - deltr) / (betr - deltr + kmr)\n",
    "\n",
    "    f[idx_after] = (f1 + f2 + f3) * mr * ktl\n",
    "\n",
    "    return f + offr"
   ]
  },
  {
   "cell_type": "code",
   "execution_count": 3,
   "metadata": {
    "collapsed": true
   },
   "outputs": [],
   "source": [
    "def green(t, tg, ktl, mg, kmg, betg, deltg, offg):\n",
    "    \"\"\"Model function for green data\"\"\"\n",
    "\n",
    "    f = np.zeros(np.shape(t))\n",
    "    idx_after = t > tg\n",
    "    dt = t[idx_after] - tg\n",
    "\n",
    "    f1 = np.exp(- (betg + kmg) * dt) / (betg - deltg + kmg)\n",
    "    f2 = - np.exp(- betg * dt) / (betg - deltg)\n",
    "    f3 = kmg * np.exp(- deltg * dt) / (betg - deltg) / (betg - deltg + kmg)\n",
    "\n",
    "    f[idx_after] = (f1 + f2 + f3) * mg * ktl\n",
    "\n",
    "    return f + offg"
   ]
  },
  {
   "cell_type": "code",
   "execution_count": 4,
   "metadata": {
    "collapsed": true
   },
   "outputs": [],
   "source": [
    "def combined(t, tr, tg, ktl, m, kmr, kmg, betr, betg, deltr, deltg, offr, offg):\n",
    "    \"\"\"Model function for a combined fit of red and green data\"\"\"\n",
    "    \n",
    "    f = np.stack(\n",
    "        (red(t=t, tr=tr, ktl=ktl, mr=m, kmr=kmr, betr=betr, deltr=deltr, offr=offr),\n",
    "         green(t=t, tg=tg, ktl=ktl, mg=m, kmg=kmg, betg=betg, deltg=deltg, offg=offg)),\n",
    "        axis=1)\n",
    "\n",
    "    return f"
   ]
  },
  {
   "cell_type": "code",
   "execution_count": 5,
   "metadata": {
    "collapsed": true,
    "scrolled": false
   },
   "outputs": [],
   "source": [
    "# Set default parameter values\n",
    "ktl_0 = 5\n",
    "m_0 = 5\n",
    "\n",
    "tr_0 = 5\n",
    "mr_0 = 19\n",
    "kmr_0 = 0.03\n",
    "betr_0 = 0.16\n",
    "deltr_0 = 0.07\n",
    "offr_0 = 0\n",
    "\n",
    "tg_0 = 4\n",
    "mg_0 = 2\n",
    "kmg_0 = 4\n",
    "betg_0 = 0.03\n",
    "deltg_0 = 0.07\n",
    "offg_0 = 0"
   ]
  },
  {
   "cell_type": "code",
   "execution_count": 6,
   "metadata": {
    "collapsed": true
   },
   "outputs": [],
   "source": [
    "# Create fit models\n",
    "model_red = lm.Model(red)\n",
    "model_red.set_param_hint('tr', min=0, max=30, value=tr_0)\n",
    "model_red.set_param_hint('ktl', min=0, value=ktl_0)\n",
    "model_red.set_param_hint('mr', min=0, value=mr_0)\n",
    "model_red.set_param_hint('kmr', min=0, value=kmr_0)\n",
    "model_red.set_param_hint('betr', min=0, value=betr_0)\n",
    "model_red.set_param_hint('deltr', min=0, value=deltr_0)\n",
    "model_red.set_param_hint('offr', value=offr_0)\n",
    "\n",
    "model_green = lm.Model(green)\n",
    "model_green.set_param_hint('tg', min=0, max=30, value=tg_0)\n",
    "model_green.set_param_hint('ktl', min=0, value=ktl_0)\n",
    "model_green.set_param_hint('mg', min=0, value=mg_0)\n",
    "model_green.set_param_hint('kmg', min=0, value=kmg_0)\n",
    "model_green.set_param_hint('betg', min=0, value=betg_0)\n",
    "model_green.set_param_hint('deltg', min=0, value=deltg_0)\n",
    "model_green.set_param_hint('offg', value=offg_0)\n",
    "\n",
    "model_combined = lm.Model(combined)\n",
    "model_combined.set_param_hint('tr', min=0, max=30, value=tr_0)\n",
    "model_combined.set_param_hint('tg', min=0, max=30, value=tg_0)\n",
    "model_combined.set_param_hint('ktl', min=0, value=ktl_0)\n",
    "model_combined.set_param_hint('m', min=0, value=m_0)\n",
    "model_combined.set_param_hint('kmr', min=0, value=kmr_0)\n",
    "model_combined.set_param_hint('kmg', min=0, value=kmg_0)\n",
    "model_combined.set_param_hint('betr', min=0, value=betr_0)\n",
    "model_combined.set_param_hint('betg', min=0, value=betg_0)\n",
    "model_combined.set_param_hint('deltr', min=0, value=deltr_0)\n",
    "model_combined.set_param_hint('deltg', min=0, value=deltg_0)\n",
    "model_combined.set_param_hint('offr', value=offr_0)\n",
    "model_combined.set_param_hint('offg', value=offg_0)"
   ]
  },
  {
   "cell_type": "markdown",
   "metadata": {},
   "source": [
    "## Read in data and prepare result list"
   ]
  },
  {
   "cell_type": "code",
   "execution_count": 7,
   "metadata": {
    "collapsed": true
   },
   "outputs": [],
   "source": [
    "# Read in data\n",
    "D = {}\n",
    "\n",
    "# Add background levels (undo background substraction)\n",
    "bg_green = 4.3\n",
    "bg_red = 2.7\n",
    "\n",
    "D['Huh7 control'] = {}\n",
    "D['Huh7 control']['t'] = pd.read_excel('data/Huh7_control.xlsx', sheetname='time').values.squeeze()\n",
    "D['Huh7 control']['rfp'] = pd.read_excel('data/Huh7_control.xlsx', sheetname='RFP').values + bg_red\n",
    "D['Huh7 control']['gfp'] = pd.read_excel('data/Huh7_control.xlsx', sheetname='GFP').values + bg_green\n",
    "\n",
    "D['A549 control'] = {}\n",
    "D['A549 control']['t'] = pd.read_excel('data/A549_control.xlsx', sheetname='time').values.squeeze()\n",
    "D['A549 control']['rfp'] = pd.read_excel('data/A549_control.xlsx', sheetname='RFP').values + bg_red\n",
    "D['A549 control']['gfp'] = pd.read_excel('data/A549_control.xlsx', sheetname='GFP').values + bg_green\n",
    "\n",
    "D['A549 siRNA'] = {}\n",
    "D['A549 siRNA']['t'] = pd.read_excel('data/A549_siRNA.xlsx', sheetname='time').values.squeeze()\n",
    "D['A549 siRNA']['rfp'] = pd.read_excel('data/A549_siRNA.xlsx', sheetname='RFP').values + bg_red\n",
    "D['A549 siRNA']['gfp'] = pd.read_excel('data/A549_siRNA.xlsx', sheetname='GFP').values + bg_green"
   ]
  },
  {
   "cell_type": "code",
   "execution_count": 72,
   "metadata": {
    "collapsed": true
   },
   "outputs": [],
   "source": [
    "# Provide output tables\n",
    "\n",
    "# Initialize result dictionary\n",
    "R = {}\n",
    "\n",
    "# Get a list of fit parameters\n",
    "par_names = model_green.param_names.copy()\n",
    "par_names.extend(p for p in model_red.param_names if p not in par_names)\n",
    "par_names.sort()\n",
    "\n",
    "# Iteratively populate the result dictionary\n",
    "for k in D.keys():\n",
    "    R[k] = {}\n",
    "    nTraces = np.shape(D[k]['gfp'])[1]\n",
    "    nTimes = np.shape(D[k]['gfp'])[0]\n",
    "    tpl_traces = np.empty((nTimes, nTraces))\n",
    "    tpl_traces.fill(np.NaN)\n",
    "\n",
    "    R[k]['green'] = {}\n",
    "    R[k]['green']['params'] = pd.DataFrame(index=np.arange(nTraces), columns=model_green.param_names, dtype='float64')\n",
    "    R[k]['green']['fit'] = np.copy(tpl_traces)\n",
    "\n",
    "    R[k]['red'] = {}\n",
    "    R[k]['red']['params'] = pd.DataFrame(index=np.arange(nTraces), columns=model_red.param_names, dtype='float64')\n",
    "    R[k]['red']['fit'] = np.copy(tpl_traces)\n",
    "\n",
    "    R[k]['combined'] = {}\n",
    "    R[k]['combined']['params'] = pd.DataFrame(index=np.arange(nTraces), columns=model_combined.param_names, dtype='float64')\n",
    "    R[k]['combined']['fit'] = np.stack([tpl_traces, tpl_traces], axis=0)"
   ]
  },
  {
   "cell_type": "markdown",
   "metadata": {},
   "source": [
    "## Fit and plot separate models"
   ]
  },
  {
   "cell_type": "code",
   "execution_count": 57,
   "metadata": {
    "collapsed": true
   },
   "outputs": [],
   "source": [
    "def plotSeparate(ds, tr, pdf=None):\n",
    "    \"\"\"Fits and plots the data, treating RFP and GFP separately.\n",
    "    \n",
    "    Keyword arguments:\n",
    "    ds -- the dictionary key of the dataset\n",
    "    tr -- the index of the trace in the dataset to be processed\n",
    "    pdf -- a PdfPages object to which the figure is written if it is not None\n",
    "    \"\"\"\n",
    "\n",
    "    # Plot fit results\n",
    "    fig = plt.figure()\n",
    "    p_tr = plt.axvline(R[ds]['red']['params']['tr'][tr], label='RFP onset',\n",
    "                       color='#ff0000', linewidth=.5, linestyle='--')\n",
    "    p_tg = plt.axvline(R[ds]['green']['params']['tg'][tr], label='GFP onset',\n",
    "                      color='#00ff00', linewidth=.5, linestyle='--')\n",
    "    p_fr, = plt.plot(D[ds]['t'], R[ds]['red']['fit'][:,tr], '-', label='RFP (fit)', color='#ff0000', linewidth=1)\n",
    "    p_fg, = plt.plot(D[ds]['t'], R[ds]['green']['fit'][:,tr], '-', label='GFP (fit)', color='#00ff00', linewidth=1)\n",
    "    p_dr, = plt.plot(D[ds]['t'], D[ds]['rfp'][:,tr], '-', label='RFP (measured)', color='#990000', linewidth=.5)\n",
    "    p_dg, = plt.plot(D[ds]['t'], D[ds]['gfp'][:,tr], '-', label='GFP (measured)', color='#009900', linewidth=.5)\n",
    "\n",
    "    # Format plot\n",
    "    plt.xlabel('Time [h]')\n",
    "    plt.ylabel('Fluorescence intensity [a.u.]')\n",
    "    plt.title('{:s} (separate fit) #{:03d}'.format(ds, tr))\n",
    "    plt.legend(handles=[p_dg, p_fg, p_tg, p_dr, p_fr, p_tr])\n",
    "\n",
    "    # Write figure to pdf\n",
    "    if pdf != None:\n",
    "        pdf.savefig(fig)\n",
    "\n",
    "    # Show and close figure\n",
    "    plt.show()\n",
    "    plt.close()"
   ]
  },
  {
   "cell_type": "code",
   "execution_count": null,
   "metadata": {
    "scrolled": true
   },
   "outputs": [],
   "source": [
    "# Fit traces separately\n",
    "for ds in D.keys():\n",
    "    nTraces = np.shape(D[ds]['rfp'])[1]\n",
    "\n",
    "    for tr in range(nTraces):\n",
    "        print('Fitting „{:s}“ #{:03d}/{:03d} …'.format(ds, tr, nTraces))\n",
    "\n",
    "        # Adjust parameter bounds for onset time for current trace\n",
    "        model_red.set_param_hint('tr', max=D[ds]['t'][D[ds]['rfp'][:,tr].argmax()])\n",
    "        model_green.set_param_hint('tg', max=D[ds]['t'][D[ds]['gfp'][:,tr].argmax()])\n",
    "\n",
    "        # Fit the data\n",
    "        result_red = model_red.fit(D[ds]['rfp'][:,tr], t=D[ds]['t'])\n",
    "        result_green = model_green.fit(D[ds]['gfp'][:,tr], t=D[ds]['t'])\n",
    "\n",
    "        # Save results to R\n",
    "        R[ds]['red']['params'].iloc[tr] = result_red.best_values\n",
    "        R[ds]['red']['fit'][:,tr] = result_red.best_fit\n",
    "        R[ds]['green']['params'].iloc[tr] = result_green.best_values\n",
    "        R[ds]['green']['fit'][:,tr] = result_green.best_fit"
   ]
  },
  {
   "cell_type": "code",
   "execution_count": null,
   "metadata": {
    "scrolled": true
   },
   "outputs": [],
   "source": [
    "# Plot results of separate fit\n",
    "ts = getTimeStamp()\n",
    "\n",
    "for ds in D.keys():\n",
    "    pdffile = os.path.join(getOutpath(), '{:s}_separate_{:s}.pdf'.format(ts, ds.replace(' ', '_')))\n",
    "    with PdfPages(pdffile) as pdf:\n",
    "        for tr in range(np.shape(D[ds]['rfp'])[1]):\n",
    "            plotSeparate(ds, tr, pdf)"
   ]
  },
  {
   "cell_type": "markdown",
   "metadata": {},
   "source": [
    "## Fit and plot combined model"
   ]
  },
  {
   "cell_type": "code",
   "execution_count": null,
   "metadata": {
    "collapsed": true
   },
   "outputs": [],
   "source": [
    "def plotCombined(ds, tr, pdf=None, params=False):\n",
    "    \"\"\"Fits and plots the data, treating RFP and GFP together.\n",
    "    \n",
    "    Keyword arguments:\n",
    "    ds -- the dictionary key of the dataset\n",
    "    tr -- the index of the trace in the dataset to be processed\n",
    "    pdf -- a PdfPages object to which the figure is written if it is not None\n",
    "    params -- if set to True, the parameters will be shown\n",
    "    \"\"\"\n",
    "\n",
    "    # Plot fit results\n",
    "    fig = plt.figure()\n",
    "\n",
    "    if params:\n",
    "        ax = fig.gca()\n",
    "    else:\n",
    "        ax = fig.gca()\n",
    "\n",
    "    p_tr = ax.axvline(R[ds]['combined']['params']['tr'][tr], label='RFP onset',\n",
    "                       color='#ff0000', linewidth=.5, linestyle='--')\n",
    "    p_tg = ax.axvline(R[ds]['combined']['params']['tg'][tr], label='GFP onset',\n",
    "                      color='#00ff00', linewidth=.5, linestyle='--')\n",
    "    p_fr, = ax.plot(D[ds]['t'], R[ds]['combined']['fit'][0,:,tr], '-', label='RFP (fit)', color='#ff0000', linewidth=1)\n",
    "    p_fg, = ax.plot(D[ds]['t'], R[ds]['combined']['fit'][1,:,tr], '-', label='GFP (fit)', color='#00ff00', linewidth=1)\n",
    "    p_dr, = ax.plot(D[ds]['t'], D[ds]['rfp'][:,tr], '-', label='RFP (measured)', color='#990000', linewidth=.5)\n",
    "    p_dg, = ax.plot(D[ds]['t'], D[ds]['gfp'][:,tr], '-', label='GFP (measured)', color='#009900', linewidth=.5)\n",
    "\n",
    "    # Format plot\n",
    "    ax.set_xlabel('Time [h]')\n",
    "    ax.set_ylabel('Fluorescence intensity [a.u.]')\n",
    "    ax.set_title('{:s} (combined fit) #{:03d}'.format(ds, tr))\n",
    "    ax.legend(handles=[p_dg, p_fg, p_tg, p_dr, p_fr, p_tr])\n",
    "\n",
    "    # Write figure to pdf\n",
    "    if pdf != None:\n",
    "        pdf.savefig(fig)\n",
    "\n",
    "    # Show and close figure\n",
    "    plt.show()\n",
    "    plt.close()"
   ]
  },
  {
   "cell_type": "code",
   "execution_count": null,
   "metadata": {
    "scrolled": true
   },
   "outputs": [],
   "source": [
    "# Fit combined model\n",
    "for ds in D.keys():\n",
    "    nTraces = np.shape(D[ds]['rfp'])[1]\n",
    "\n",
    "    for tr in range(nTraces):\n",
    "        print('Fitting „{:s}“ #{:03d}/{:03d} …'.format(ds, tr, nTraces))\n",
    "\n",
    "        # Adjust parameter bounds for onset time for current trace\n",
    "        model_combined.set_param_hint('tr', max=D[ds]['t'][D[ds]['rfp'][:,tr].argmax()])\n",
    "        model_combined.set_param_hint('tg', max=D[ds]['t'][D[ds]['gfp'][:,tr].argmax()])\n",
    "\n",
    "        # Fit the data\n",
    "        data = np.stack([D[ds]['rfp'][:,tr], D[ds]['gfp'][:,tr]], axis=1)\n",
    "        result = model_combined.fit(data, t=D[ds]['t'])\n",
    "\n",
    "        # Save results to R\n",
    "        R[ds]['combined']['params'].iloc[tr] = result.best_values\n",
    "        R[ds]['combined']['fit'][0,:,tr] = result.best_fit[:,0]\n",
    "        R[ds]['combined']['fit'][1,:,tr] = result.best_fit[:,1]"
   ]
  },
  {
   "cell_type": "code",
   "execution_count": null,
   "metadata": {},
   "outputs": [],
   "source": [
    "# Plot results of combined fit\n",
    "ts = getTimeStamp()\n",
    "for ds in D.keys():\n",
    "    pdffile = os.path.join(getOutpath(), '{:s}_combined_{:s}.pdf'.format(ts, ds.replace(' ', '_')))\n",
    "    with PdfPages(pdffile) as pdf:\n",
    "        for tr in range(np.shape(D[ds]['rfp'])[1]):\n",
    "            plotCombined(ds, tr, pdf)"
   ]
  },
  {
   "cell_type": "code",
   "execution_count": null,
   "metadata": {
    "scrolled": true
   },
   "outputs": [],
   "source": [
    "for k in R.keys():\n",
    "    plt.figure()\n",
    "    plt.plot([0, 30], [0, 30], 'k-')\n",
    "    plt.plot(R[k]['red']['params']['tr'], R[k]['green']['params']['tg'], '.')\n",
    "    plt.xlabel('Onset RFP [h]')\n",
    "    plt.ylabel('Onset GFP [h]')\n",
    "    plt.title(k)\n",
    "    plt.show()\n",
    "    plt.close()\n",
    "    "
   ]
  },
  {
   "cell_type": "markdown",
   "metadata": {},
   "source": [
    "From the [documentation](http://lmfit-py.readthedocs.io/en/latest/model.html#lmfit.model.Model.fit):\n",
    "\n",
    "If supplied, `weights` will be used to weight the calculated residual so that the quantity minimized in the least-squares sense is `weights*(data - fit)`. `weights` must be an `ndarray`-like object of same size and shape as `data`."
   ]
  },
  {
   "cell_type": "code",
   "execution_count": null,
   "metadata": {},
   "outputs": [],
   "source": [
    "pn_both = ['m', 'ktl']\n",
    "pn_red = ['tr', 'kmr', 'betr', 'deltr', 'offr']\n",
    "pn_green = ['tg', 'kmg', 'betg', 'deltg', 'offg']\n",
    "\n",
    "plt.figure()\n",
    "ax = plt.gca()\n",
    "\n",
    "# Plot general violins\n",
    "violins = ax.violinplot(R['Huh7 control']['combined'][pn_both].values, showmeans=True)\n",
    "#ax.set_xticks(range(1, 1+len(pn_both))\n",
    "#ax.set_xticklabels(pn_both)\n",
    "\n",
    "for p in violins.pop('bodies'):\n",
    "    p.set_facecolor('#0000ff55')\n",
    "for p in violins.values():\n",
    "    p.set_edgecolor('#000099ff')\n",
    "\n",
    "# Plot green violins\n",
    "violins = ax.violinplot(R['Huh7 control']['combined'][pn_green].values, showmeans=True)\n",
    "#ax.set_xticks(range(1+len(pn_both), 1+len(pn_green))\n",
    "#ax.set_xticklabels(pn_green)\n",
    "\n",
    "for p in violins.pop('bodies'):\n",
    "    p.set_facecolor('#00ff0055')\n",
    "for p in violins.values():\n",
    "    p.set_edgecolor('#009900ff')\n",
    "\n",
    "# Plot red violins\n",
    "violins = ax.violinplot(R['Huh7 control']['combined'][pn_red].values, showmeans=True)\n",
    "#ax.set_xticks(range(1+len(pn_both)+len(pn_green), 1+len(pn_red))\n",
    "#ax.set_xticklabels(pn_red)\n",
    "\n",
    "for p in violins.pop('bodies'):\n",
    "    p.set_facecolor('#ff000055')\n",
    "for p in violins.values():\n",
    "    p.set_edgecolor('#990000ff')\n",
    "\n",
    "ax.set_yscale('log')\n",
    "plt.show()\n",
    "plt.close()"
   ]
  },
  {
   "cell_type": "code",
   "execution_count": null,
   "metadata": {},
   "outputs": [],
   "source": [
    "plt.figure()\n",
    "ax = plt.gca()\n",
    "ax.violinplot(R['Huh7 control']['combined']['params']['tr'].values, showextrema=False, positions=[0])\n",
    "ax.plot(0, 6, 'rx')\n",
    "ax.set_xticks([])\n",
    "ax.spines['left'].set_position('zero')\n",
    "for s in [ax.spines[pos] for pos in ['top', 'right', 'bottom']]:\n",
    "    s.set_visible(False)\n",
    "ax.set_title('tr')\n",
    "plt.show()\n",
    "plt.close()"
   ]
  },
  {
   "cell_type": "code",
   "execution_count": null,
   "metadata": {
    "collapsed": true
   },
   "outputs": [],
   "source": [
    "def plotViolin(ax, data, label, clr_face, clr_edge, mark=None):\n",
    "    v = ax.violinplot(data, showextrema=False, positions=[0])\n",
    "    for p in v['bodies']:\n",
    "        p.set_facecolor(clr_face)\n",
    "    if mark != None:\n",
    "        ax.plot(0, mark, 'x', color=clr_edge)\n",
    "    ax.set_xticks([])\n",
    "    ax.spines['left'].set_position('zero')\n",
    "    for s in [ax.spines[pos] for pos in ['top', 'right', 'bottom']]:\n",
    "        s.set_visible(False)\n",
    "    ax.set_title(label)"
   ]
  },
  {
   "cell_type": "code",
   "execution_count": null,
   "metadata": {},
   "outputs": [],
   "source": [
    "plt.figure()\n",
    "ax = plt.gca()\n",
    "data = R['Huh7 control']['combined']['params']['tr'].values\n",
    "label = 't_red'\n",
    "clr_face = '#99000055'\n",
    "clr_edge = '#ff0000ff'\n",
    "mark = 7\n",
    "plotViolin(ax, data, label, clr_face, clr_edge, mark)\n",
    "plt.show()\n",
    "plt.close()"
   ]
  },
  {
   "cell_type": "code",
   "execution_count": null,
   "metadata": {
    "collapsed": true
   },
   "outputs": [],
   "source": [
    "# Plot violins\n",
    "pn_both = ['m', 'ktl']\n",
    "pn_red = ['tr', 'kmr', 'betr', 'deltr', 'offr']\n",
    "pn_green = ['tg', 'kmg', 'betg', 'deltg', 'offg']\n",
    "grid = (2, max(len(pn_red), len(pn_green)))\n",
    "\n",
    "ts = getTimeStamp()\n",
    "\n",
    "for ds in R.keys():\n",
    "\n",
    "    pdffile = os.path.join(getOutpath(), '{:s}_violins_{:s}.pdf'.format(ts, ds.replace(' ', '_')))\n",
    "    with PdfPages(pdffile) as pdf:\n",
    "\n",
    "        for i in R[ds]['combined']['params'].index:\n",
    "            fig = plt.figure()\n",
    "            fig.suptitle('{:s} (combined fit) #{:03d}'.format(ds, i))\n",
    "\n",
    "            # Plot green parameters\n",
    "            for prm in range(len(pn_green)):\n",
    "                ax = plt.subplot2grid(grid, (0, prm))\n",
    "                label = pn_green[prm]\n",
    "                data = R[ds]['combined']['params'][label].values\n",
    "                clr_face = '#00ff0055'\n",
    "                clr_edge = '#009900ff'\n",
    "                plotViolin(ax, data, label, clr_face, clr_edge, data[i])\n",
    "\n",
    "            # Plot red parameters\n",
    "            for prm in range(len(pn_red)):\n",
    "                ax = plt.subplot2grid(grid, (1, prm))\n",
    "                label = pn_red[prm]\n",
    "                data = R[ds]['combined']['params'][label].values\n",
    "                clr_face = '#ff000055'\n",
    "                clr_edge = '#990000ff'\n",
    "                plotViolin(ax, data, label, clr_face, clr_edge, data[i])\n",
    "        \n",
    "            pdf.savefig(fig)\n",
    "            plt.show(fig)\n",
    "            plt.close(fig)\n"
   ]
  },
  {
   "cell_type": "code",
   "execution_count": 73,
   "metadata": {},
   "outputs": [
    {
     "data": {
      "text/plain": [
       "{'bodies': [<matplotlib.collections.PolyCollection at 0x7fd39f37cf98>,\n",
       "  <matplotlib.collections.PolyCollection at 0x7fd39c0e57b8>],\n",
       " 'cbars': <matplotlib.collections.LineCollection at 0x7fd39f391cc0>,\n",
       " 'cmaxes': <matplotlib.collections.LineCollection at 0x7fd39cf43b70>,\n",
       " 'cmeans': <matplotlib.collections.LineCollection at 0x7fd39bb96048>,\n",
       " 'cmins': <matplotlib.collections.LineCollection at 0x7fd39cf43828>}"
      ]
     },
     "execution_count": 73,
     "metadata": {},
     "output_type": "execute_result"
    }
   ],
   "source": [
    "violins"
   ]
  }
 ],
 "metadata": {
  "kernelspec": {
   "display_name": "Python 3",
   "language": "python",
   "name": "python3"
  },
  "language_info": {
   "codemirror_mode": {
    "name": "ipython",
    "version": 3
   },
   "file_extension": ".py",
   "mimetype": "text/x-python",
   "name": "python",
   "nbconvert_exporter": "python",
   "pygments_lexer": "ipython3",
   "version": "3.5.3"
  }
 },
 "nbformat": 4,
 "nbformat_minor": 2
}
